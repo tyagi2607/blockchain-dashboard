{
 "cells": [
  {
   "cell_type": "code",
   "execution_count": 1,
   "metadata": {},
   "outputs": [],
   "source": [
    "import requests\n",
    "import pandas as pd\n",
    "import pymongo\n",
    "import streamlit as st"
   ]
  },
  {
   "cell_type": "code",
   "execution_count": 163,
   "metadata": {},
   "outputs": [],
   "source": [
    "def get_coin_daily_history(coinid, days):\n",
    "    # define CoinGecko API endpoint and parameters\n",
    "    url = \"https://api.coingecko.com/api/v3/coins/\"+coinid+\"/market_chart\"\n",
    "    params = {\n",
    "        \"vs_currency\": \"usd\",\n",
    "        \"days\": days,\n",
    "        \"interval\": \"daily\"\n",
    "    }\n",
    "    # fetch data from CoinGecko API and store in Pandas DataFrame\n",
    "    response = requests.get(url, params=params)\n",
    "    data = response.json()\n",
    "    prices_df = pd.DataFrame(data[\"prices\"], columns=[\"timestamp\", \"price\"])\n",
    "    market_caps_df = pd.DataFrame(data[\"market_caps\"], columns=[\"timestamp\", \"market_cap\"])\n",
    "    total_volumes_df = pd.DataFrame(data[\"total_volumes\"], columns=[\"timestamp\", \"total_volume\"])\n",
    "\n",
    "    # merge the dataframes into one dataframe using timestamp as the key\n",
    "    merged_df = pd.merge(prices_df, market_caps_df, on=\"timestamp\")\n",
    "    merged_df = pd.merge(merged_df, total_volumes_df, on=\"timestamp\")\n",
    "    merged_df = merged_df[:-1]\n",
    "    return merged_df"
   ]
  },
  {
   "cell_type": "code",
   "execution_count": 164,
   "metadata": {},
   "outputs": [],
   "source": [
    "data = get_coin_daily_history(\"bitcoin\", \"max\")"
   ]
  },
  {
   "cell_type": "code",
   "execution_count": 171,
   "metadata": {},
   "outputs": [
    {
     "data": {
      "text/html": [
       "<div>\n",
       "<style scoped>\n",
       "    .dataframe tbody tr th:only-of-type {\n",
       "        vertical-align: middle;\n",
       "    }\n",
       "\n",
       "    .dataframe tbody tr th {\n",
       "        vertical-align: top;\n",
       "    }\n",
       "\n",
       "    .dataframe thead th {\n",
       "        text-align: right;\n",
       "    }\n",
       "</style>\n",
       "<table border=\"1\" class=\"dataframe\">\n",
       "  <thead>\n",
       "    <tr style=\"text-align: right;\">\n",
       "      <th></th>\n",
       "      <th>timestamp</th>\n",
       "      <th>price</th>\n",
       "      <th>market_cap</th>\n",
       "      <th>total_volume</th>\n",
       "    </tr>\n",
       "  </thead>\n",
       "  <tbody>\n",
       "    <tr>\n",
       "      <th>0</th>\n",
       "      <td>1367107200000</td>\n",
       "      <td>135.30</td>\n",
       "      <td>1.500518e+09</td>\n",
       "      <td>0.0</td>\n",
       "    </tr>\n",
       "    <tr>\n",
       "      <th>1</th>\n",
       "      <td>1367193600000</td>\n",
       "      <td>141.96</td>\n",
       "      <td>1.575032e+09</td>\n",
       "      <td>0.0</td>\n",
       "    </tr>\n",
       "    <tr>\n",
       "      <th>2</th>\n",
       "      <td>1367280000000</td>\n",
       "      <td>135.30</td>\n",
       "      <td>1.501657e+09</td>\n",
       "      <td>0.0</td>\n",
       "    </tr>\n",
       "    <tr>\n",
       "      <th>3</th>\n",
       "      <td>1367366400000</td>\n",
       "      <td>117.00</td>\n",
       "      <td>1.298952e+09</td>\n",
       "      <td>0.0</td>\n",
       "    </tr>\n",
       "    <tr>\n",
       "      <th>4</th>\n",
       "      <td>1367452800000</td>\n",
       "      <td>103.43</td>\n",
       "      <td>1.148668e+09</td>\n",
       "      <td>0.0</td>\n",
       "    </tr>\n",
       "  </tbody>\n",
       "</table>\n",
       "</div>"
      ],
      "text/plain": [
       "       timestamp   price    market_cap  total_volume\n",
       "0  1367107200000  135.30  1.500518e+09           0.0\n",
       "1  1367193600000  141.96  1.575032e+09           0.0\n",
       "2  1367280000000  135.30  1.501657e+09           0.0\n",
       "3  1367366400000  117.00  1.298952e+09           0.0\n",
       "4  1367452800000  103.43  1.148668e+09           0.0"
      ]
     },
     "execution_count": 171,
     "metadata": {},
     "output_type": "execute_result"
    }
   ],
   "source": [
    "data.head()"
   ]
  },
  {
   "cell_type": "code",
   "execution_count": 166,
   "metadata": {},
   "outputs": [],
   "source": [
    "connection_string = \"mongodb+srv://{username}:{password}@{cluster}/?retryWrites=true&w=majority\".format(\n",
    "    username=st.secrets.db_username,\n",
    "    password=st.secrets.db_password,\n",
    "    cluster=st.secrets.cluster_name\n",
    ")"
   ]
  },
  {
   "cell_type": "code",
   "execution_count": 167,
   "metadata": {},
   "outputs": [],
   "source": [
    "@st.cache_resource\n",
    "def init_connection():\n",
    "    connection_string = \"mongodb+srv://{username}:{password}@{cluster}/?retryWrites=true&w=majority\".format(\n",
    "    username=st.secrets.db_username,\n",
    "    password=st.secrets.db_password,\n",
    "    cluster=st.secrets.cluster_name\n",
    "    )\n",
    "    return pymongo.MongoClient(connection_string)"
   ]
  },
  {
   "cell_type": "code",
   "execution_count": 168,
   "metadata": {},
   "outputs": [],
   "source": [
    "def send_coin_daily_history_to_mongodb(data,coinid, days):\n",
    "    records = data.to_dict(orient=\"records\")\n",
    "    # connect to MongoDB database and insert data\n",
    "    client = init_connection()\n",
    "    db = client[coinid+\"_database\"]\n",
    "    collection_name = coinid+\"_market\"\n",
    "    if collection_name in db.list_collection_names():\n",
    "        # If the collection exists, drop it\n",
    "        db[collection_name].drop()\n",
    "    collection = db[coinid+\"_market\"]\n",
    "    collection.insert_many(records)"
   ]
  },
  {
   "cell_type": "code",
   "execution_count": 172,
   "metadata": {},
   "outputs": [],
   "source": [
    "send_coin_daily_history_to_mongodb(data, 'bitcoin', '')"
   ]
  },
  {
   "cell_type": "code",
   "execution_count": 105,
   "metadata": {},
   "outputs": [
    {
     "data": {
      "text/html": [
       "<div>\n",
       "<style scoped>\n",
       "    .dataframe tbody tr th:only-of-type {\n",
       "        vertical-align: middle;\n",
       "    }\n",
       "\n",
       "    .dataframe tbody tr th {\n",
       "        vertical-align: top;\n",
       "    }\n",
       "\n",
       "    .dataframe thead th {\n",
       "        text-align: right;\n",
       "    }\n",
       "</style>\n",
       "<table border=\"1\" class=\"dataframe\">\n",
       "  <thead>\n",
       "    <tr style=\"text-align: right;\">\n",
       "      <th></th>\n",
       "      <th>timestamp</th>\n",
       "      <th>price</th>\n",
       "      <th>market_cap</th>\n",
       "      <th>total_volume</th>\n",
       "      <th>date</th>\n",
       "    </tr>\n",
       "  </thead>\n",
       "  <tbody>\n",
       "    <tr>\n",
       "      <th>0</th>\n",
       "      <td>1367107200000</td>\n",
       "      <td>135.3</td>\n",
       "      <td>1.500518e+09</td>\n",
       "      <td>0.0</td>\n",
       "      <td>2013-04-28</td>\n",
       "    </tr>\n",
       "  </tbody>\n",
       "</table>\n",
       "</div>"
      ],
      "text/plain": [
       "       timestamp  price    market_cap  total_volume       date\n",
       "0  1367107200000  135.3  1.500518e+09           0.0 2013-04-28"
      ]
     },
     "execution_count": 105,
     "metadata": {},
     "output_type": "execute_result"
    }
   ],
   "source": [
    "bitcoin_market"
   ]
  },
  {
   "cell_type": "code",
   "execution_count": 103,
   "metadata": {},
   "outputs": [],
   "source": [
    "bitcoin_market['date'] = pd.to_datetime(bitcoin_market['timestamp'], unit='ms')"
   ]
  },
  {
   "cell_type": "code",
   "execution_count": 104,
   "metadata": {},
   "outputs": [
    {
     "data": {
      "text/plain": [
       "<AxesSubplot:xlabel='date'>"
      ]
     },
     "execution_count": 104,
     "metadata": {},
     "output_type": "execute_result"
    },
    {
     "data": {
      "image/png": "[encoded data removed]",
      "text/plain": [
       "<Figure size 640x480 with 1 Axes>"
      ]
     },
     "metadata": {},
     "output_type": "display_data"
    }
   ],
   "source": [
    "bitcoin_market.plot(x=\"date\", y=\"price\")"
   ]
  },
  {
   "cell_type": "code",
   "execution_count": null,
   "metadata": {},
   "outputs": [],
   "source": [
    "\n",
    "# convert DataFrame to dictionary\n",
    "records = merged_df.to_dict(orient=\"records\")\n",
    "\n",
    "# connect to MongoDB database and insert data\n",
    "client = MongoClient(\"<MongoDB connection string>\")\n",
    "db = client[\"<database name>\"]\n",
    "collection = db[\"<collection name>\"]\n",
    "collection.insert_many(records)"
   ]
  },
  {
   "cell_type": "code",
   "execution_count": 107,
   "metadata": {},
   "outputs": [
    {
     "data": {
      "text/html": [
       "<div>\n",
       "<style scoped>\n",
       "    .dataframe tbody tr th:only-of-type {\n",
       "        vertical-align: middle;\n",
       "    }\n",
       "\n",
       "    .dataframe tbody tr th {\n",
       "        vertical-align: top;\n",
       "    }\n",
       "\n",
       "    .dataframe thead th {\n",
       "        text-align: right;\n",
       "    }\n",
       "</style>\n",
       "<table border=\"1\" class=\"dataframe\">\n",
       "  <thead>\n",
       "    <tr style=\"text-align: right;\">\n",
       "      <th></th>\n",
       "      <th>timestamp</th>\n",
       "      <th>price</th>\n",
       "      <th>market_cap</th>\n",
       "      <th>total_volume</th>\n",
       "    </tr>\n",
       "  </thead>\n",
       "  <tbody>\n",
       "    <tr>\n",
       "      <th>0</th>\n",
       "      <td>1679875200000</td>\n",
       "      <td>28048.469979</td>\n",
       "      <td>5.426756e+11</td>\n",
       "      <td>1.445037e+10</td>\n",
       "    </tr>\n",
       "  </tbody>\n",
       "</table>\n",
       "</div>"
      ],
      "text/plain": [
       "       timestamp         price    market_cap  total_volume\n",
       "0  1679875200000  28048.469979  5.426756e+11  1.445037e+10"
      ]
     },
     "execution_count": 107,
     "metadata": {},
     "output_type": "execute_result"
    }
   ],
   "source": [
    "merged_df[:-1]"
   ]
  },
  {
   "cell_type": "code",
   "execution_count": 2,
   "metadata": {},
   "outputs": [],
   "source": [
    "import load_coin_history as ltc"
   ]
  },
  {
   "cell_type": "code",
   "execution_count": 3,
   "metadata": {},
   "outputs": [],
   "source": [
    "import load_coin_history as ltc\n",
    "ltc.coin_marketdata_to_mongodb(coinid=\"bitcoin\", days=\"2\")"
   ]
  },
  {
   "cell_type": "code",
   "execution_count": null,
   "metadata": {},
   "outputs": [],
   "source": []
  }
 ],
 "metadata": {
  "kernelspec": {
   "display_name": "base",
   "language": "python",
   "name": "python3"
  },
  "language_info": {
   "codemirror_mode": {
    "name": "ipython",
    "version": 3
   },
   "file_extension": ".py",
   "mimetype": "text/x-python",
   "name": "python",
   "nbconvert_exporter": "python",
   "pygments_lexer": "ipython3",
   "version": "3.9.13"
  },
  "orig_nbformat": 4
 },
 "nbformat": 4,
 "nbformat_minor": 2
}
