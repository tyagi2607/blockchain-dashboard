{
 "cells": [
  {
   "cell_type": "code",
   "execution_count": null,
   "metadata": {},
   "outputs": [],
   "source": [
    "import requests\n",
    "import pandas as pd\n",
    "from pymongo import MongoClient"
   ]
  },
  {
   "cell_type": "code",
   "execution_count": null,
   "metadata": {},
   "outputs": [],
   "source": [
    "def get_coin_data(coinid, days):\n",
    "    # define CoinGecko API endpoint and parameters\n",
    "    url = \"https://api.coingecko.com/api/v3/coins/\"&\"coinid\"&\"/market_chart\"\n",
    "    params = {\n",
    "        \"vs_currency\": \"usd\",\n",
    "        \"days\": \"30\"\n",
    "    }\n",
    "    # fetch data from CoinGecko API and store in Pandas DataFrame\n",
    "    response = requests.get(url, params=params)\n",
    "    data = response.json()\n",
    "    return data"
   ]
  },
  {
   "cell_type": "code",
   "execution_count": null,
   "metadata": {},
   "outputs": [],
   "source": [
    "\n",
    "prices_df = pd.DataFrame(data[\"prices\"], columns=[\"timestamp\", \"price\"])\n",
    "market_caps_df = pd.DataFrame(data[\"market_caps\"], columns=[\"timestamp\", \"market_cap\"])\n",
    "total_volumes_df = pd.DataFrame(data[\"total_volumes\"], columns=[\"timestamp\", \"total_volume\"])\n",
    "\n",
    "# merge the dataframes into one dataframe using timestamp as the key\n",
    "merged_df = pd.merge(prices_df, market_caps_df, on=\"timestamp\")\n",
    "merged_df = pd.merge(merged_df, total_volumes_df, on=\"timestamp\")\n"
   ]
  },
  {
   "cell_type": "code",
   "execution_count": null,
   "metadata": {},
   "outputs": [],
   "source": [
    "\n",
    "# convert DataFrame to dictionary\n",
    "records = merged_df.to_dict(orient=\"records\")\n",
    "\n",
    "# connect to MongoDB database and insert data\n",
    "client = MongoClient(\"<MongoDB connection string>\")\n",
    "db = client[\"<database name>\"]\n",
    "collection = db[\"<collection name>\"]\n",
    "collection.insert_many(records)"
   ]
  }
 ],
 "metadata": {
  "kernelspec": {
   "display_name": "base",
   "language": "python",
   "name": "python3"
  },
  "language_info": {
   "name": "python",
   "version": "3.9.13"
  },
  "orig_nbformat": 4
 },
 "nbformat": 4,
 "nbformat_minor": 2
}
